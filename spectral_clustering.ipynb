{
 "cells": [
  {
   "cell_type": "code",
   "execution_count": 2,
   "metadata": {
    "id": "dXhtRtAYP_QL"
   },
   "outputs": [],
   "source": [
    "from typing import List\n",
    "\n",
    "import numpy as np\n",
    "import scipy.sparse as sp"
   ]
  },
  {
   "cell_type": "markdown",
   "metadata": {
    "id": "BCKsTm7HP_QS"
   },
   "source": [
    "# Spectral clustering users based on their preferences\n",
    "\n",
    "The goal of this task is to find groups of users with similar preferences using **Spectral clustering**. \n",
    "Given a fragment of the Yelp social network, represented by an undirected weighted graph.\n",
    "Nodes in the graph represent users.\n",
    "If two users are connected by an edge of weight $w$, it means that they have both left positive reviews to the same $w$ restaurants.\n",
    "\n",
    "Additionally, given a matrix `F` that encodes user preferences to different categories of restaurants. If `F[i, c] = 1`, then user `i` likes restaurants in category `c`."
   ]
  },
  {
   "cell_type": "markdown",
   "metadata": {
    "id": "jlF-0K3DP_QV"
   },
   "source": [
    "## Load the data\n",
    "\n",
    "* `N` = number of users (nodes in the graph)\n",
    "* `C` = number of categories\n",
    "* The graph is stored as a _sparse adjacency matrix_ `A` (shape `[N, N]`).\n",
    "* User preferences are stored in a _feature matrix_ `F` (shape `[N, C]`). They will only be used for the final part of the assignment (Part 3)\n",
    "* Name of each category is provided in the list `categories` (length `[C]`)."
   ]
  },
  {
   "cell_type": "code",
   "execution_count": 3,
   "metadata": {
    "id": "xqk3q7VqP_QY"
   },
   "outputs": [],
   "source": [
    "A = sp.load_npz('A.npz')\n",
    "F = np.load('F.npy')\n",
    "categories = np.load('categories.npy', allow_pickle=True).tolist()"
   ]
  },
  {
   "cell_type": "code",
   "execution_count": 4,
   "metadata": {
    "id": "UFjmlFfZP_Qb"
   },
   "outputs": [],
   "source": [
    "assert A.shape[0] == F.shape[0]\n",
    "assert F.shape[1] == len(categories)"
   ]
  },
  {
   "cell_type": "code",
   "execution_count": 5,
   "metadata": {
    "colab": {
     "base_uri": "https://localhost:8080/"
    },
    "id": "y99lsXOKP_Qc",
    "outputId": "97b15211-55e5-4647-cec1-5d5b9b6f09f7"
   },
   "outputs": [
    {
     "name": "stdout",
     "output_type": "stream",
     "text": [
      "The adjacency matrix is symmetric\n"
     ]
    }
   ],
   "source": [
    "print(f'The adjacency matrix is {\"symmetric\" if (A != A.T).sum() == 0 else \"asymmetric\"}')"
   ]
  },
  {
   "cell_type": "markdown",
   "metadata": {
    "id": "um7S9xbJP_Qf"
   },
   "source": [
    "# 1. Implementing spectral clustering\n",
    "## 1.1. Construct the graph Laplacian"
   ]
  },
  {
   "cell_type": "markdown",
   "metadata": {
    "id": "AoL4-eDUP_Qg"
   },
   "source": [
    "First, we need to construct the Laplacian for the given graph (*Do only use sparse operations, see [Scipy Sparse](https://docs.scipy.org/doc/scipy/reference/sparse.html)*). \n",
    "\n",
    "Given the **adjacency matrix** $A \\in \\mathbb{R}^{N \\times N},$ we define the **degree matrix** $D \\in \\mathbb{R}^{N \\times N}$ of an undirected graph as\n",
    "$$D_{ij} =  \\begin{cases}\\sum_{k=1}^N A_{ik} & if \\;\\; i = j\\\\ 0 & if \\;\\; i \\ne j\\end{cases}$$\n",
    "\n",
    "If our goal is to minimize the **ratio cut**, we will need to use the **unnormalized Laplacian**, defined as\n",
    "$$L_{unnorm} = D - A.$$\n",
    "\n",
    "If our goal is to minimze the **normalized cut**, we will need to use the **normalized Laplacian** (a.k.a. symmetrized Laplacian), defined as\n",
    "$$L_{sym} = I - D^{-1/2}AD^{-1/2}$$"
   ]
  },
  {
   "cell_type": "code",
   "execution_count": 6,
   "metadata": {
    "id": "duBSJxICP_Qj"
   },
   "outputs": [],
   "source": [
    "def construct_laplacian(A: sp.csr_matrix, norm_laplacian: bool) -> sp.csr_matrix:\n",
    "    \"\"\"Construct Laplacian of a graph.\n",
    "    \n",
    "    Parameters\n",
    "    ----------\n",
    "    A : scipy.sparse.csr_matrix, shape [N, N]\n",
    "        Adjacency matrix of the graph.\n",
    "    norm_laplacian : bool\n",
    "        Whether to construct the normalized graph Laplacian or not.\n",
    "        If True, construct the normalized (symmetrized) Laplacian, L = I - D^{-1/2} A D^{-1/2}.\n",
    "        If False, construct the unnormalized Laplacian, L = D - A.\n",
    "        \n",
    "    Returns\n",
    "    -------\n",
    "    L : scipy.sparse.csr_matrix, shape [N, N]\n",
    "        Laplacian of the graph.\n",
    "        \n",
    "    \"\"\"\n",
    " \n",
    "    N = A.shape[0]\n",
    "    D = A.sum(axis=1)\n",
    "    D = 1/np.sqrt(D)\n",
    "    D_sqrt = np.diag(D.flat)\n",
    "    D_sqrt = sp.csc.csc_matrix(D_sqrt)\n",
    "    \n",
    "    if norm_laplacian:\n",
    "        I = np.eye(N)\n",
    "        L = D_sqrt@A\n",
    "        L = L@D_sqrt\n",
    "        L = I - L\n",
    "    else:\n",
    "        #D = np.diag(A.sum(axis=1).flat)\n",
    "        D = A.sum(axis=1)\n",
    "        D = np.diag(D.flat)\n",
    "\n",
    "        L = D - A\n",
    "    return L"
   ]
  },
  {
   "cell_type": "markdown",
   "metadata": {
    "id": "UgskjvdEP_Qn"
   },
   "source": [
    "## 1.2. Spectral embedding"
   ]
  },
  {
   "cell_type": "markdown",
   "metadata": {
    "id": "zsrHzkbrP_Qo"
   },
   "source": [
    "Now, we have to compute the spectral embedding for the given graph.\n",
    "\n",
    "In order to partition the graph into $k$ clusters, such that the desired cut (ratio or normalized) is minimized, we need to consider the $k$ eigenvectors corresponding to the $k$ smallest eigenvalues of the graph Laplacian.\n",
    "\n",
    "Since the Laplacian matrix is sparse and symmetric, we can use the function `eigsh` from the `scipy.sparse.linalg` package in order to find eigendecomposition of $L$ (`eig` - eigendecomposition, `s` - sparse, `h`- Hermitian).\n",
    "\n",
    "Laplacian matrix is always positive semi-definite when picking the appropriate value for the `which` parameter."
   ]
  },
  {
   "cell_type": "code",
   "execution_count": 7,
   "metadata": {
    "id": "-3iMw-JIP_Qp"
   },
   "outputs": [],
   "source": [
    "from scipy.sparse.linalg import eigsh"
   ]
  },
  {
   "cell_type": "code",
   "execution_count": 8,
   "metadata": {
    "id": "-BABsMl4P_Qp",
    "outputId": "e63a1a87-bcbe-4710-953a-1f13a92d5c00",
    "scrolled": true
   },
   "outputs": [
    {
     "name": "stdout",
     "output_type": "stream",
     "text": [
      "Help on function eigsh in module scipy.sparse.linalg.eigen.arpack.arpack:\n",
      "\n",
      "eigsh(A, k=6, M=None, sigma=None, which='LM', v0=None, ncv=None, maxiter=None, tol=0, return_eigenvectors=True, Minv=None, OPinv=None, mode='normal')\n",
      "    Find k eigenvalues and eigenvectors of the real symmetric square matrix\n",
      "    or complex Hermitian matrix A.\n",
      "    \n",
      "    Solves ``A * x[i] = w[i] * x[i]``, the standard eigenvalue problem for\n",
      "    w[i] eigenvalues with corresponding eigenvectors x[i].\n",
      "    \n",
      "    If M is specified, solves ``A * x[i] = w[i] * M * x[i]``, the\n",
      "    generalized eigenvalue problem for w[i] eigenvalues\n",
      "    with corresponding eigenvectors x[i].\n",
      "    \n",
      "    Note that there is no specialized routine for the case when A is a complex\n",
      "    Hermitian matrix. In this case, ``eigsh()`` will call ``eigs()`` and return the\n",
      "    real parts of the eigenvalues thus obtained.\n",
      "    \n",
      "    Parameters\n",
      "    ----------\n",
      "    A : ndarray, sparse matrix or LinearOperator\n",
      "        A square operator representing the operation ``A * x``, where ``A`` is\n",
      "        real symmetric or complex Hermitian. For buckling mode (see below)\n",
      "        ``A`` must additionally be positive-definite.\n",
      "    k : int, optional\n",
      "        The number of eigenvalues and eigenvectors desired.\n",
      "        `k` must be smaller than N. It is not possible to compute all\n",
      "        eigenvectors of a matrix.\n",
      "    \n",
      "    Returns\n",
      "    -------\n",
      "    w : array\n",
      "        Array of k eigenvalues.\n",
      "    v : array\n",
      "        An array representing the `k` eigenvectors.  The column ``v[:, i]`` is\n",
      "        the eigenvector corresponding to the eigenvalue ``w[i]``.\n",
      "    \n",
      "    Other Parameters\n",
      "    ----------------\n",
      "    M : An N x N matrix, array, sparse matrix, or linear operator representing\n",
      "        the operation ``M @ x`` for the generalized eigenvalue problem\n",
      "    \n",
      "            A @ x = w * M @ x.\n",
      "    \n",
      "        M must represent a real symmetric matrix if A is real, and must\n",
      "        represent a complex Hermitian matrix if A is complex. For best\n",
      "        results, the data type of M should be the same as that of A.\n",
      "        Additionally:\n",
      "    \n",
      "            If sigma is None, M is symmetric positive definite.\n",
      "    \n",
      "            If sigma is specified, M is symmetric positive semi-definite.\n",
      "    \n",
      "            In buckling mode, M is symmetric indefinite.\n",
      "    \n",
      "        If sigma is None, eigsh requires an operator to compute the solution\n",
      "        of the linear equation ``M @ x = b``. This is done internally via a\n",
      "        (sparse) LU decomposition for an explicit matrix M, or via an\n",
      "        iterative solver for a general linear operator.  Alternatively,\n",
      "        the user can supply the matrix or operator Minv, which gives\n",
      "        ``x = Minv @ b = M^-1 @ b``.\n",
      "    sigma : real\n",
      "        Find eigenvalues near sigma using shift-invert mode.  This requires\n",
      "        an operator to compute the solution of the linear system\n",
      "        ``[A - sigma * M] x = b``, where M is the identity matrix if\n",
      "        unspecified.  This is computed internally via a (sparse) LU\n",
      "        decomposition for explicit matrices A & M, or via an iterative\n",
      "        solver if either A or M is a general linear operator.\n",
      "        Alternatively, the user can supply the matrix or operator OPinv,\n",
      "        which gives ``x = OPinv @ b = [A - sigma * M]^-1 @ b``.\n",
      "        Note that when sigma is specified, the keyword 'which' refers to\n",
      "        the shifted eigenvalues ``w'[i]`` where:\n",
      "    \n",
      "            if mode == 'normal', ``w'[i] = 1 / (w[i] - sigma)``.\n",
      "    \n",
      "            if mode == 'cayley', ``w'[i] = (w[i] + sigma) / (w[i] - sigma)``.\n",
      "    \n",
      "            if mode == 'buckling', ``w'[i] = w[i] / (w[i] - sigma)``.\n",
      "    \n",
      "        (see further discussion in 'mode' below)\n",
      "    v0 : ndarray, optional\n",
      "        Starting vector for iteration.\n",
      "        Default: random\n",
      "    ncv : int, optional\n",
      "        The number of Lanczos vectors generated ncv must be greater than k and\n",
      "        smaller than n; it is recommended that ``ncv > 2*k``.\n",
      "        Default: ``min(n, max(2*k + 1, 20))``\n",
      "    which : str ['LM' | 'SM' | 'LA' | 'SA' | 'BE']\n",
      "        If A is a complex Hermitian matrix, 'BE' is invalid.\n",
      "        Which `k` eigenvectors and eigenvalues to find:\n",
      "    \n",
      "            'LM' : Largest (in magnitude) eigenvalues.\n",
      "    \n",
      "            'SM' : Smallest (in magnitude) eigenvalues.\n",
      "    \n",
      "            'LA' : Largest (algebraic) eigenvalues.\n",
      "    \n",
      "            'SA' : Smallest (algebraic) eigenvalues.\n",
      "    \n",
      "            'BE' : Half (k/2) from each end of the spectrum.\n",
      "    \n",
      "        When k is odd, return one more (k/2+1) from the high end.\n",
      "        When sigma != None, 'which' refers to the shifted eigenvalues ``w'[i]``\n",
      "        (see discussion in 'sigma', above).  ARPACK is generally better\n",
      "        at finding large values than small values.  If small eigenvalues are\n",
      "        desired, consider using shift-invert mode for better performance.\n",
      "    maxiter : int, optional\n",
      "        Maximum number of Arnoldi update iterations allowed.\n",
      "        Default: ``n*10``\n",
      "    tol : float\n",
      "        Relative accuracy for eigenvalues (stopping criterion).\n",
      "        The default value of 0 implies machine precision.\n",
      "    Minv : N x N matrix, array, sparse matrix, or LinearOperator\n",
      "        See notes in M, above.\n",
      "    OPinv : N x N matrix, array, sparse matrix, or LinearOperator\n",
      "        See notes in sigma, above.\n",
      "    return_eigenvectors : bool\n",
      "        Return eigenvectors (True) in addition to eigenvalues.\n",
      "        This value determines the order in which eigenvalues are sorted.\n",
      "        The sort order is also dependent on the `which` variable.\n",
      "    \n",
      "            For which = 'LM' or 'SA':\n",
      "                If `return_eigenvectors` is True, eigenvalues are sorted by\n",
      "                algebraic value.\n",
      "    \n",
      "                If `return_eigenvectors` is False, eigenvalues are sorted by\n",
      "                absolute value.\n",
      "    \n",
      "            For which = 'BE' or 'LA':\n",
      "                eigenvalues are always sorted by algebraic value.\n",
      "    \n",
      "            For which = 'SM':\n",
      "                If `return_eigenvectors` is True, eigenvalues are sorted by\n",
      "                algebraic value.\n",
      "    \n",
      "                If `return_eigenvectors` is False, eigenvalues are sorted by\n",
      "                decreasing absolute value.\n",
      "    \n",
      "    mode : string ['normal' | 'buckling' | 'cayley']\n",
      "        Specify strategy to use for shift-invert mode.  This argument applies\n",
      "        only for real-valued A and sigma != None.  For shift-invert mode,\n",
      "        ARPACK internally solves the eigenvalue problem\n",
      "        ``OP * x'[i] = w'[i] * B * x'[i]``\n",
      "        and transforms the resulting Ritz vectors x'[i] and Ritz values w'[i]\n",
      "        into the desired eigenvectors and eigenvalues of the problem\n",
      "        ``A * x[i] = w[i] * M * x[i]``.\n",
      "        The modes are as follows:\n",
      "    \n",
      "            'normal' :\n",
      "                OP = [A - sigma * M]^-1 @ M,\n",
      "                B = M,\n",
      "                w'[i] = 1 / (w[i] - sigma)\n",
      "    \n",
      "            'buckling' :\n",
      "                OP = [A - sigma * M]^-1 @ A,\n",
      "                B = A,\n",
      "                w'[i] = w[i] / (w[i] - sigma)\n",
      "    \n",
      "            'cayley' :\n",
      "                OP = [A - sigma * M]^-1 @ [A + sigma * M],\n",
      "                B = M,\n",
      "                w'[i] = (w[i] + sigma) / (w[i] - sigma)\n",
      "    \n",
      "        The choice of mode will affect which eigenvalues are selected by\n",
      "        the keyword 'which', and can also impact the stability of\n",
      "        convergence (see [2] for a discussion).\n",
      "    \n",
      "    Raises\n",
      "    ------\n",
      "    ArpackNoConvergence\n",
      "        When the requested convergence is not obtained.\n",
      "    \n",
      "        The currently converged eigenvalues and eigenvectors can be found\n",
      "        as ``eigenvalues`` and ``eigenvectors`` attributes of the exception\n",
      "        object.\n",
      "    \n",
      "    See Also\n",
      "    --------\n",
      "    eigs : eigenvalues and eigenvectors for a general (nonsymmetric) matrix A\n",
      "    svds : singular value decomposition for a matrix A\n",
      "    \n",
      "    Notes\n",
      "    -----\n",
      "    This function is a wrapper to the ARPACK [1]_ SSEUPD and DSEUPD\n",
      "    functions which use the Implicitly Restarted Lanczos Method to\n",
      "    find the eigenvalues and eigenvectors [2]_.\n",
      "    \n",
      "    References\n",
      "    ----------\n",
      "    .. [1] ARPACK Software, http://www.caam.rice.edu/software/ARPACK/\n",
      "    .. [2] R. B. Lehoucq, D. C. Sorensen, and C. Yang,  ARPACK USERS GUIDE:\n",
      "       Solution of Large Scale Eigenvalue Problems by Implicitly Restarted\n",
      "       Arnoldi Methods. SIAM, Philadelphia, PA, 1998.\n",
      "    \n",
      "    Examples\n",
      "    --------\n",
      "    >>> from scipy.sparse.linalg import eigsh\n",
      "    >>> identity = np.eye(13)\n",
      "    >>> eigenvalues, eigenvectors = eigsh(identity, k=6)\n",
      "    >>> eigenvalues\n",
      "    array([1., 1., 1., 1., 1., 1.])\n",
      "    >>> eigenvectors.shape\n",
      "    (13, 6)\n",
      "\n"
     ]
    }
   ],
   "source": [
    "help(eigsh)"
   ]
  },
  {
   "cell_type": "code",
   "execution_count": 9,
   "metadata": {
    "id": "MDeA_vUfP_Qq"
   },
   "outputs": [],
   "source": [
    "def spectral_embedding(A: sp.csr_matrix, num_clusters: int, norm_laplacian: bool) -> np.array:\n",
    "    \"\"\"Compute spectral embedding of nodes in the given graph.\n",
    "    \n",
    "    Parameters\n",
    "    ----------\n",
    "    A : scipy.sparse.csr_matrix, shape [N, N]\n",
    "        Adjacency matrix of the graph.\n",
    "    num_clusters : int\n",
    "        Number of clusters to detect in the data.\n",
    "    norm_laplacian : bool, default False\n",
    "        Whether to use the normalized graph Laplacian or not.\n",
    "        \n",
    "    Returns\n",
    "    -------\n",
    "    embedding : np.array, shape [N, num_clusters]\n",
    "        Spectral embedding for the given graph.\n",
    "        Each row represents the spectral embedding of a given node.\n",
    "    \n",
    "    \"\"\"\n",
    "    if (A != A.T).sum() != 0:\n",
    "        raise ValueError(\"Spectral embedding doesn't work if the adjacency matrix is not symmetric.\")\n",
    "    if num_clusters < 2:\n",
    "        raise ValueError(\"The clustering requires at least two clusters.\")\n",
    "    if num_clusters > A.shape[0]:\n",
    "        raise ValueError(f\"We can have at most {A.shape[0]} clusters (number of nodes).\")\n",
    "   \n",
    "    laplacian = construct_laplacian(A, norm_laplacian)\n",
    "    eigenvalues, eigenvectors = eigsh(laplacian, num_clusters, which='SA')\n",
    "\n",
    "    return eigenvectors"
   ]
  },
  {
   "cell_type": "markdown",
   "metadata": {
    "id": "kAZrxoDLP_Qr"
   },
   "source": [
    "## 1.3. Determine the clusters based on the spectral embedding"
   ]
  },
  {
   "cell_type": "markdown",
   "metadata": {
    "id": "6OPLzwbUP_Qr"
   },
   "source": [
    "Use the K-means algorithm for assigning nodes to clusters, once the spectral embedding is computed.\n",
    "\n",
    "When using the **normalized Laplacian**, the rows of the embedding matrix **have to** be normalized to have unit $L_2$ norm. The justification of this approach is not trivial."
   ]
  },
  {
   "cell_type": "code",
   "execution_count": 10,
   "metadata": {
    "id": "Tq9YZmjLP_Qs"
   },
   "outputs": [],
   "source": [
    "from sklearn.cluster import KMeans\n",
    "from sklearn.preprocessing import normalize"
   ]
  },
  {
   "cell_type": "code",
   "execution_count": 11,
   "metadata": {
    "id": "N1QhESklP_Qs"
   },
   "outputs": [],
   "source": [
    "def spectral_clustering(A: sp.csr_matrix, num_clusters: int, norm_laplacian: bool, seed: int = 42) -> np.array:\n",
    "    \"\"\"Perform spectral clustering on the given graph.\n",
    "    \n",
    "    Parameters\n",
    "    ----------\n",
    "    A : scipy.sparse.csr_matrix, shape [N, N]\n",
    "        Adjacency matrix of the graph.\n",
    "    num_clusters : int\n",
    "        Number of clusters to detect in the data.\n",
    "    norm_laplacian : bool, default False\n",
    "        Whether to use the normalized graph Laplacian or not.\n",
    "    seed : int, default 42\n",
    "        Random seed to use for the `KMeans` clustering.\n",
    "        \n",
    "    Returns\n",
    "    -------\n",
    "    z_pred : np.array, shape [N]\n",
    "        Predicted cluster indicators for each node.\n",
    "        \n",
    "    \"\"\"\n",
    "    model = KMeans(num_clusters, random_state=seed)\n",
    "   \n",
    "    embedding = spectral_embedding(A=A, num_clusters=num_clusters, norm_laplacian=norm_laplacian)\n",
    "    embedding = normalize(embedding)\n",
    "    model.fit(embedding)\n",
    "    z_pred = model.predict(embedding)\n",
    "    \n",
    "    return z_pred"
   ]
  },
  {
   "cell_type": "markdown",
   "metadata": {
    "id": "Nddk3gtdP_Qt"
   },
   "source": [
    "# 2. Quantitatively evaluate the results"
   ]
  },
  {
   "cell_type": "code",
   "execution_count": 12,
   "metadata": {
    "id": "ACNdBItlP_Qv"
   },
   "outputs": [],
   "source": [
    "def labels_to_list_of_clusters(z: np.array) -> List[List[int]]:\n",
    "    \"\"\"Convert predicted label vector to a list of clusters in the graph.\n",
    "    This function is already implemented, nothing to do here.\n",
    "    \n",
    "    Parameters\n",
    "    ----------\n",
    "    z : np.array, shape [N]\n",
    "        Predicted labels.\n",
    "        \n",
    "    Returns\n",
    "    -------\n",
    "    list_of_clusters : list of lists\n",
    "        Each list contains ids of nodes that belong to the same cluster.\n",
    "        Each node may appear in one and only one partition.\n",
    "    \n",
    "    Examples\n",
    "    --------\n",
    "    >>> z = np.array([0, 0, 1, 1, 0])\n",
    "    >>> labels_to_list_of_clusters(z)\n",
    "    [[0, 1, 4], [2, 3]]\n",
    "    \n",
    "    \"\"\"\n",
    "    return [np.where(z == c)[0] for c in np.unique(z)]"
   ]
  },
  {
   "cell_type": "markdown",
   "metadata": {
    "id": "AwX3Q6A4P_Qv"
   },
   "source": [
    "## 2.1. Compute ratio cut"
   ]
  },
  {
   "cell_type": "code",
   "execution_count": 13,
   "metadata": {
    "id": "4Ebf0fCKP_Qv"
   },
   "outputs": [],
   "source": [
    "def compute_ratio_cut(A: sp.csr_matrix, z: np.array) -> float:\n",
    "    \"\"\"Compute the ratio cut for the given partition of the graph.\n",
    "    \n",
    "    Parameters\n",
    "    ----------\n",
    "    A : scipy.sparse.csr_matrix, shape [N, N]\n",
    "        Adjacency matrix of the graph.\n",
    "    z : np.array, shape [N]\n",
    "        Cluster indicators for each node.\n",
    "    \n",
    "    Returns\n",
    "    -------\n",
    "    ratio_cut : float\n",
    "        Value of the cut for the given partition of the graph.\n",
    "        \n",
    "    \"\"\"\n",
    "    \n",
    "    clusters = labels_to_list_of_clusters(z)\n",
    "    ratio_cut = 0\n",
    "    N = A.shape[0]\n",
    "    \n",
    "    for c in clusters:\n",
    "        ratios = [i for i in range(N)]\n",
    "        n_c = len(c)\n",
    "        sum_weight = 0\n",
    "        for ele in c:\n",
    "            ratios.remove(ele)\n",
    "            \n",
    "        ratios_not_c = ratios\n",
    "        row = A[c,:]\n",
    "        row = row[:,ratios_not_c]\n",
    "        sum_weight = row.sum()\n",
    "        ratio_cut = ratio_cut + sum_weight/n_c  \n",
    "\n",
    "\n",
    "    return ratio_cut"
   ]
  },
  {
   "cell_type": "markdown",
   "metadata": {
    "id": "k0ZyCa10P_Qw"
   },
   "source": [
    "## 2.2. Compute normalized cut"
   ]
  },
  {
   "cell_type": "markdown",
   "metadata": {
    "id": "vwj05KQaP_Qw"
   },
   "source": [
    "**Important**: if a cluster only contains a single node, define its volume to be 1 to avoid division by zero errors."
   ]
  },
  {
   "cell_type": "code",
   "execution_count": 14,
   "metadata": {
    "id": "ypYI17upP_Qy"
   },
   "outputs": [],
   "source": [
    "def compute_normalized_cut(A: sp.csr_matrix, z: np.array) -> float:\n",
    "    \"\"\"Compute the normalized cut for the given partition of the graph.\n",
    "    \n",
    "    Parameters\n",
    "    ----------\n",
    "    A : scipy.sparse.csr_matrix, shape [N, N]\n",
    "        Adjacency matrix of the graph.\n",
    "    z : np.array, shape [N]\n",
    "        Cluster indicators for each node.\n",
    "    \n",
    "    Returns\n",
    "    -------\n",
    "    norm_cut : float\n",
    "        Value of the normalized cut for the given partition of the graph.\n",
    "        \n",
    "    \"\"\"\n",
    "    \n",
    "    clusters = labels_to_list_of_clusters(z)\n",
    "    norm_cut = 0\n",
    "    N = A.shape[0]\n",
    "    for c in clusters:\n",
    "        C = 0\n",
    "        ratios = [i for i in range(N)]\n",
    "        n_c = len(c)\n",
    "        sum_weight = 0\n",
    "        for ele in c:\n",
    "            ratios.remove(ele)\n",
    "            C = C + A[ele,:].sum()\n",
    "        \n",
    "        ratios_not_c = ratios\n",
    "        row = A[c,:]\n",
    "        row = row[:,ratios_not_c]\n",
    "        sum_weight = row.sum()\n",
    "        norm_cut = norm_cut + sum_weight/C  \n",
    "\n",
    "    return norm_cut"
   ]
  },
  {
   "cell_type": "markdown",
   "metadata": {
    "id": "oZDaVshWP_Qz"
   },
   "source": [
    "Notice, how using the unnormalized Laplacian leads to a much better ratio cut, while the normalized Laplacian leads to better normalized cut."
   ]
  },
  {
   "cell_type": "code",
   "execution_count": 15,
   "metadata": {
    "id": "H8lPSfwGP_Qz"
   },
   "outputs": [],
   "source": [
    "num_clusters = 6"
   ]
  },
  {
   "cell_type": "code",
   "execution_count": 16,
   "metadata": {
    "colab": {
     "base_uri": "https://localhost:8080/"
    },
    "id": "ec6Vq7ezP_Qz",
    "outputId": "b8681878-8a1e-42b7-e440-540bc7447afb"
   },
   "outputs": [
    {
     "name": "stdout",
     "output_type": "stream",
     "text": [
      "When using L_unnorm:\n",
      " ratio cut = 806.161\n",
      " normalized cut = 4.943\n",
      " sizes of partitions are: [31, 3344, 4, 1, 2, 2]\n"
     ]
    }
   ],
   "source": [
    "np.random.seed(12903)\n",
    "norm_laplacian = False\n",
    "z_unnorm = spectral_clustering(A, num_clusters, norm_laplacian)\n",
    "print('When using L_unnorm:')\n",
    "print(' ratio cut = {:.3f}'.format(compute_ratio_cut(A, z_unnorm)))\n",
    "print(' normalized cut = {:.3f}'.format(compute_normalized_cut(A, z_unnorm)))\n",
    "print(' sizes of partitions are: {}'.format([len(clust) for clust in labels_to_list_of_clusters(z_unnorm)]))"
   ]
  },
  {
   "cell_type": "code",
   "execution_count": 17,
   "metadata": {
    "colab": {
     "base_uri": "https://localhost:8080/"
    },
    "id": "_58_0wTMP_Q0",
    "outputId": "acf010cc-82ec-4ac5-8b26-940d9e50f4f1"
   },
   "outputs": [
    {
     "name": "stdout",
     "output_type": "stream",
     "text": [
      "When using L_norm:\n",
      " ratio cut = 5942.851\n",
      " normalized cut = 4.343\n",
      " sizes of partitions are: [742, 577, 754, 572, 350, 389]\n"
     ]
    }
   ],
   "source": [
    "np.random.seed(12323)\n",
    "norm_laplacian = True\n",
    "z_norm = spectral_clustering(A, num_clusters, norm_laplacian)\n",
    "print('When using L_norm:')\n",
    "print(' ratio cut = {:.3f}'.format(compute_ratio_cut(A, z_norm)))\n",
    "print(' normalized cut = {:.3f}'.format(compute_normalized_cut(A, z_norm)))\n",
    "print(' sizes of partitions are: {}'.format([len(clust) for clust in labels_to_list_of_clusters(z_norm)]))"
   ]
  },
  {
   "cell_type": "markdown",
   "metadata": {
    "id": "J2uzdu9IP_Q3"
   },
   "source": [
    "# 3. Visualize the results"
   ]
  },
  {
   "cell_type": "markdown",
   "metadata": {
    "id": "ABLqAwW8P_Q3"
   },
   "source": [
    "Print out the 5 most popular types of restaurants visited by the users in each cluster."
   ]
  },
  {
   "cell_type": "code",
   "execution_count": 18,
   "metadata": {
    "id": "7KzzXuCNP_Q3"
   },
   "outputs": [],
   "source": [
    "def print_top_categories_for_each_cluster(top_k: int, z: np.array, F: sp.csr_matrix, categories: List[str]):\n",
    "    \"\"\"Print the top-K categories among users in each cluster.\n",
    "    For each cluster, the function prints names of the top-K categories,\n",
    "    and number of users that like the respective category (separated by a comma).\n",
    "    The function doesn't return anything, just prints the output.\n",
    "    \n",
    "    Parameters\n",
    "    ----------\n",
    "    top_k : int\n",
    "        Number of most popular categories to print for each cluster.\n",
    "    z : np.array, shape [N]\n",
    "        Cluster labels.\n",
    "    F : sp.csr_matrix, shape [N, C]\n",
    "        Matrix that tells preferences of each user to each category.\n",
    "        F[i, c] = 1 if user i gave at least one positive review to at least one restaurant in category c.\n",
    "    categories : list, shape [C]\n",
    "        Names of the categories.\n",
    "        \n",
    "    \"\"\"\n",
    "    n_categories = len(categories)\n",
    "\n",
    "    clusters = labels_to_list_of_clusters(z)\n",
    "    for index, cluster in enumerate(clusters):\n",
    "        print(\"Most popular categories in cluster \" + str(index))\n",
    "        preferences = np.zeros(n_categories)\n",
    "        for point in cluster:\n",
    "            preferences += F[point, :]\n",
    "        top_results = preferences.argsort()[-top_k:][::-1]\n",
    "        for result in top_results:\n",
    "            print(\" - \" + categories[result])\n",
    "        print('\\n')\n",
    "\n",
    "\n"
   ]
  },
  {
   "cell_type": "code",
   "execution_count": 19,
   "metadata": {
    "colab": {
     "base_uri": "https://localhost:8080/"
    },
    "id": "0pGE0CPt6cll",
    "outputId": "7167937c-4c83-438e-efa5-2b2cb7c5648f"
   },
   "outputs": [
    {
     "data": {
      "text/plain": [
       "array([1, 2, 0])"
      ]
     },
     "execution_count": 19,
     "metadata": {},
     "output_type": "execute_result"
    }
   ],
   "source": [
    "np.argsort([333,5,10])"
   ]
  },
  {
   "cell_type": "code",
   "execution_count": 20,
   "metadata": {
    "colab": {
     "base_uri": "https://localhost:8080/"
    },
    "id": "DiDkv23lP_Q4",
    "outputId": "70ee389c-bac0-40a3-ba44-9d3a8f6890f1"
   },
   "outputs": [
    {
     "name": "stdout",
     "output_type": "stream",
     "text": [
      "Most popular categories in cluster 0\n",
      " - Breakfast & Brunch\n",
      " - Sandwiches\n",
      " - Italian\n",
      " - Pizza\n",
      " - Coffee & Tea\n",
      "\n",
      "\n",
      "Most popular categories in cluster 1\n",
      " - Japanese\n",
      " - Chinese\n",
      " - Asian Fusion\n",
      " - Sushi Bars\n",
      " - Desserts\n",
      "\n",
      "\n",
      "Most popular categories in cluster 2\n",
      " - Breakfast & Brunch\n",
      " - Italian\n",
      " - American (Traditional)\n",
      " - Sandwiches\n",
      " - Pizza\n",
      "\n",
      "\n",
      "Most popular categories in cluster 3\n",
      " - Japanese\n",
      " - Breakfast & Brunch\n",
      " - Sandwiches\n",
      " - Italian\n",
      " - Asian Fusion\n",
      "\n",
      "\n",
      "Most popular categories in cluster 4\n",
      " - Seafood\n",
      " - Mexican\n",
      " - Sandwiches\n",
      " - Japanese\n",
      " - Breakfast & Brunch\n",
      "\n",
      "\n",
      "Most popular categories in cluster 5\n",
      " - Specialty Food\n",
      " - Thai\n",
      " - Breakfast & Brunch\n",
      " - Japanese\n",
      " - Ethnic Food\n",
      "\n",
      "\n"
     ]
    }
   ],
   "source": [
    "np.random.seed(23142)\n",
    "z_norm = spectral_clustering(A, num_clusters, True)\n",
    "r = print_top_categories_for_each_cluster(5, z_norm, F, categories)"
   ]
  }
 ],
 "metadata": {
  "colab": {
   "name": "spectral_clustering.ipynb",
   "provenance": []
  },
  "kernelspec": {
   "display_name": "Python 3",
   "language": "python",
   "name": "python3"
  },
  "language_info": {
   "codemirror_mode": {
    "name": "ipython",
    "version": 3
   },
   "file_extension": ".py",
   "mimetype": "text/x-python",
   "name": "python",
   "nbconvert_exporter": "python",
   "pygments_lexer": "ipython3",
   "version": "3.9.5"
  },
  "toc": {
   "base_numbering": 1,
   "nav_menu": {},
   "number_sections": true,
   "sideBar": true,
   "skip_h1_title": false,
   "title_cell": "Table of Contents",
   "title_sidebar": "Contents",
   "toc_cell": false,
   "toc_position": {},
   "toc_section_display": true,
   "toc_window_display": false
  }
 },
 "nbformat": 4,
 "nbformat_minor": 1
}
